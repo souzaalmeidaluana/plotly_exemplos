{
 "cells": [
  {
   "cell_type": "code",
   "execution_count": 1,
   "id": "9e254ea0",
   "metadata": {},
   "outputs": [],
   "source": [
    "# Bibliotecas\n",
    "\n",
    "import plotly.graph_objs as go\n",
    "import numpy as np\n",
    "from statsmodels.graphics.gofplots import qqplot"
   ]
  },
  {
   "cell_type": "code",
   "execution_count": 2,
   "id": "6cff7348",
   "metadata": {},
   "outputs": [],
   "source": [
    "# Criando os dados artificialmente\n",
    "media = 1740\n",
    "desvio_padrao = 70\n",
    "gauss_data = np.random.normal(media, desvio_padrao, 100)"
   ]
  },
  {
   "cell_type": "code",
   "execution_count": 3,
   "id": "fa073603",
   "metadata": {},
   "outputs": [
    {
     "name": "stderr",
     "output_type": "stream",
     "text": [
      "C:\\Users\\luhsa\\anaconda3\\lib\\site-packages\\statsmodels\\graphics\\gofplots.py:993: UserWarning: marker is redundantly defined by the 'marker' keyword argument and the fmt string \"bo\" (-> marker='o'). The keyword argument will take precedence.\n",
      "  ax.plot(x, y, fmt, **plot_style)\n"
     ]
    },
    {
     "data": {
      "image/png": "[encoded data removed]",
      "text/plain": [
       "<Figure size 432x288 with 1 Axes>"
      ]
     },
     "metadata": {
      "needs_background": "light"
     },
     "output_type": "display_data"
    }
   ],
   "source": [
    "# Convertendo os dados\n",
    "qqplot_data = qqplot(gauss_data, line = \"s\").gca().lines"
   ]
  },
  {
   "cell_type": "code",
   "execution_count": 20,
   "id": "98b39ad7",
   "metadata": {},
   "outputs": [
    {
     "data": {
      "application/vnd.plotly.v1+json": {
       "config": {
        "plotlyServerURL": "https://plot.ly"
       },
       "data": [
        {
         "marker": {
          "color": "blue",
          "size": 14
         },
         "mode": "markers",
         "type": "scatter",
         "x": [
          -2.330078922787911,
          -2.0578559805954546,
          -1.8851770324320443,
          -1.75530050130824,
          -1.649672679353478,
          -1.5597799921032536,
          -1.480972651368176,
          -1.4104195313382353,
          -1.3462626652319192,
          -1.2872137328173294,
          -1.2323408611117501,
          -1.1809470407966427,
          -1.132496529618965,
          -1.086568114986069,
          -1.0428242390384295,
          -1.0009899168818812,
          -0.9608379310031608,
          -0.9221781782775869,
          -0.8848498412982431,
          -0.8487155274221447,
          -0.8136568081151939,
          -0.7795707737384843,
          -0.746367337187046,
          -0.713967098197978,
          -0.6822996332113872,
          -0.6513021122615636,
          -0.6209181700422963,
          -0.5910969765728049,
          -0.5617924660992517,
          -0.5329626925342973,
          -0.5045692868981857,
          -0.4765769975882356,
          -0.44895329836199876,
          -0.4216680520195305,
          -0.3946932201593915,
          -0.3680026112393317,
          -0.341571660625871,
          -0.3153772374626603,
          -0.28939747409646166,
          -0.2636116145249011,
          -0.23799987891187127,
          -0.212543341685061,
          -0.18722382110885646,
          -0.162023778532748,
          -0.13692622576424984,
          -0.11191463921698815,
          -0.08697287964740107,
          -0.06208511642395301,
          -0.03723575537593384,
          -0.012409369348679852,
          0.012409369348679852,
          0.03723575537593384,
          0.06208511642395301,
          0.0869728796474012,
          0.11191463921698828,
          0.13692622576424998,
          0.16202377853274785,
          0.1872238211088563,
          0.21254334168506087,
          0.23799987891187127,
          0.2636116145249011,
          0.28939747409646166,
          0.3153772374626603,
          0.341571660625871,
          0.3680026112393317,
          0.3946932201593915,
          0.4216680520195306,
          0.448953298361999,
          0.4765769975882358,
          0.5045692868981856,
          0.5329626925342971,
          0.5617924660992515,
          0.5910969765728049,
          0.6209181700422963,
          0.6513021122615636,
          0.6822996332113872,
          0.713967098197978,
          0.746367337187046,
          0.7795707737384843,
          0.8136568081151939,
          0.848715527422145,
          0.8848498412982432,
          0.9221781782775866,
          0.9608379310031608,
          1.0009899168818812,
          1.0428242390384295,
          1.086568114986069,
          1.132496529618965,
          1.1809470407966427,
          1.2323408611117501,
          1.2872137328173294,
          1.3462626652319198,
          1.4104195313382353,
          1.480972651368176,
          1.5597799921032531,
          1.6496726793534775,
          1.75530050130824,
          1.8851770324320436,
          2.0578559805954537,
          2.3300789227879104
         ],
         "y": [
          1522.783568263009,
          1576.839026788447,
          1588.459336373372,
          1602.728182417653,
          1610.7326224194185,
          1631.9866620696441,
          1632.109951589697,
          1638.9897406625735,
          1647.8128480473335,
          1649.1238858373083,
          1649.1905705893166,
          1649.4836061085257,
          1653.6537855193712,
          1657.642050652416,
          1658.6191382018178,
          1659.1635325284747,
          1660.4869827377102,
          1661.63261599741,
          1669.9711082906113,
          1672.8343246878271,
          1676.0852654823484,
          1676.274151491793,
          1678.7998291189429,
          1679.0770048149664,
          1684.1700061838067,
          1685.8343187292296,
          1696.6247836384177,
          1700.9592361337602,
          1703.176169204732,
          1704.6424970358612,
          1705.4535841279946,
          1705.6489901074729,
          1708.6418044779198,
          1709.5582990836924,
          1710.1721869589041,
          1711.9959787311452,
          1717.816123108397,
          1718.295971979224,
          1718.9261021522184,
          1721.0055383119238,
          1721.1697004575158,
          1722.033765816078,
          1723.6193631714941,
          1726.9986745233616,
          1727.352085051088,
          1727.7078693662363,
          1727.7311857513669,
          1727.8461677675716,
          1729.88913070221,
          1731.2295594221114,
          1732.5384597196835,
          1735.7052321631377,
          1735.7410603624762,
          1738.6354860793601,
          1739.46093132653,
          1740.6276516131145,
          1742.70643222932,
          1743.1135489131668,
          1743.2337417032224,
          1743.3104228568643,
          1748.842147559738,
          1751.3815109886218,
          1756.253366861681,
          1758.1872474104914,
          1761.0446392006356,
          1761.3470279387464,
          1761.5070273569866,
          1765.2660220092625,
          1766.1632987199,
          1767.1406948871356,
          1771.5213131888363,
          1772.6668979428268,
          1774.4785959928427,
          1774.9874920456348,
          1776.5392061204755,
          1784.6278636698416,
          1791.2454303111624,
          1792.4344768580459,
          1792.915315582561,
          1793.7101015377864,
          1795.0112511019422,
          1802.2399896945712,
          1811.7037529943264,
          1819.8239827995721,
          1822.9627788930393,
          1824.3164652328003,
          1829.4942773575658,
          1833.3588750544964,
          1839.069667550595,
          1840.9372728233634,
          1843.1150186179145,
          1843.1502029923258,
          1844.2944485669464,
          1849.8774393344413,
          1862.1627105416223,
          1869.1050162449842,
          1871.4680563406944,
          1871.6373021910945,
          1901.7431242556193,
          1913.9274813654033
         ]
        },
        {
         "marker": {
          "color": "red"
         },
         "mode": "lines",
         "type": "scatter",
         "x": [
          -2.330078922787911,
          -2.0578559805954546,
          -1.8851770324320443,
          -1.75530050130824,
          -1.649672679353478,
          -1.5597799921032536,
          -1.480972651368176,
          -1.4104195313382353,
          -1.3462626652319192,
          -1.2872137328173294,
          -1.2323408611117501,
          -1.1809470407966427,
          -1.132496529618965,
          -1.086568114986069,
          -1.0428242390384295,
          -1.0009899168818812,
          -0.9608379310031608,
          -0.9221781782775869,
          -0.8848498412982431,
          -0.8487155274221447,
          -0.8136568081151939,
          -0.7795707737384843,
          -0.746367337187046,
          -0.713967098197978,
          -0.6822996332113872,
          -0.6513021122615636,
          -0.6209181700422963,
          -0.5910969765728049,
          -0.5617924660992517,
          -0.5329626925342973,
          -0.5045692868981857,
          -0.4765769975882356,
          -0.44895329836199876,
          -0.4216680520195305,
          -0.3946932201593915,
          -0.3680026112393317,
          -0.341571660625871,
          -0.3153772374626603,
          -0.28939747409646166,
          -0.2636116145249011,
          -0.23799987891187127,
          -0.212543341685061,
          -0.18722382110885646,
          -0.162023778532748,
          -0.13692622576424984,
          -0.11191463921698815,
          -0.08697287964740107,
          -0.06208511642395301,
          -0.03723575537593384,
          -0.012409369348679852,
          0.012409369348679852,
          0.03723575537593384,
          0.06208511642395301,
          0.0869728796474012,
          0.11191463921698828,
          0.13692622576424998,
          0.16202377853274785,
          0.1872238211088563,
          0.21254334168506087,
          0.23799987891187127,
          0.2636116145249011,
          0.28939747409646166,
          0.3153772374626603,
          0.341571660625871,
          0.3680026112393317,
          0.3946932201593915,
          0.4216680520195306,
          0.448953298361999,
          0.4765769975882358,
          0.5045692868981856,
          0.5329626925342971,
          0.5617924660992515,
          0.5910969765728049,
          0.6209181700422963,
          0.6513021122615636,
          0.6822996332113872,
          0.713967098197978,
          0.746367337187046,
          0.7795707737384843,
          0.8136568081151939,
          0.848715527422145,
          0.8848498412982432,
          0.9221781782775866,
          0.9608379310031608,
          1.0009899168818812,
          1.0428242390384295,
          1.086568114986069,
          1.132496529618965,
          1.1809470407966427,
          1.2323408611117501,
          1.2872137328173294,
          1.3462626652319198,
          1.4104195313382353,
          1.480972651368176,
          1.5597799921032531,
          1.6496726793534775,
          1.75530050130824,
          1.8851770324320436,
          2.0578559805954537,
          2.3300789227879104
         ],
         "y": [
          1564.9764928458417,
          1585.0502819750452,
          1597.7836716172537,
          1607.3608001194082,
          1615.1498226280178,
          1621.7785322936518,
          1627.5898056823246,
          1632.7924107327365,
          1637.5233543888307,
          1641.877637712817,
          1645.9239772559145,
          1649.7137706628944,
          1653.2865237040219,
          1656.673296703219,
          1659.8989812630684,
          1662.9838548397415,
          1665.9446725105695,
          1668.795452528411,
          1671.5480536098344,
          1674.2126071233456,
          1676.7978460192287,
          1679.3113588804817,
          1681.7597887531822,
          1684.148990632951,
          1686.4841575710402,
          1688.7699226651334,
          1691.010442307274,
          1693.2094647131978,
          1695.3703867833324,
          1697.4963016328475,
          1699.5900386000876,
          1701.6541971472182,
          1703.6911757676462,
          1705.7031967861753,
          1707.6923277616731,
          1709.6605000651396,
          1711.6095250989072,
          1713.5411085382182,
          1715.4568629093944,
          1717.3583187653408,
          1719.246934676212,
          1721.1241062185336,
          1722.9911741181227,
          1724.8494316795377,
          1726.7001316164215,
          1728.544492382244,
          1730.3837040889384,
          1732.2189340913085,
          1734.0513323074763,
          1735.8820363397579,
          1737.7121764559845,
          1739.542880488266,
          1741.3752787044339,
          1743.210508706804,
          1745.0497204134983,
          1746.894081179321,
          1748.7447811162046,
          1750.6030386776197,
          1752.4701065772088,
          1754.3472781195303,
          1756.2358940304016,
          1758.137349886348,
          1760.0531042575242,
          1761.9846876968352,
          1763.9337127306028,
          1765.9018850340692,
          1767.891016009567,
          1769.9030370280962,
          1771.9400156485242,
          1774.0041741956547,
          1776.097911162895,
          1778.22382601241,
          1780.3847480825445,
          1782.5837704884684,
          1784.824290130609,
          1787.1100552247021,
          1789.4452221627914,
          1791.8344240425602,
          1794.2828539152606,
          1796.7963667765137,
          1799.3816056723967,
          1802.046159185908,
          1804.7987602673313,
          1807.6495402851729,
          1810.6103579560008,
          1813.695231532674,
          1816.9209160925234,
          1820.3076890917205,
          1823.880442132848,
          1827.670235539828,
          1831.7165750829254,
          1836.0708584069116,
          1840.8018020630059,
          1846.0044071134178,
          1851.8156805020906,
          1858.4443901677246,
          1866.2334126763342,
          1875.8105411784884,
          1888.5439308206971,
          1908.6177199499007
         ]
        }
       ],
       "layout": {
        "plot_bgcolor": "#EEEEEE",
        "showlegend": false,
        "template": {
         "data": {
          "bar": [
           {
            "error_x": {
             "color": "#2a3f5f"
            },
            "error_y": {
             "color": "#2a3f5f"
            },
            "marker": {
             "line": {
              "color": "#E5ECF6",
              "width": 0.5
             },
             "pattern": {
              "fillmode": "overlay",
              "size": 10,
              "solidity": 0.2
             }
            },
            "type": "bar"
           }
          ],
          "barpolar": [
           {
            "marker": {
             "line": {
              "color": "#E5ECF6",
              "width": 0.5
             },
             "pattern": {
              "fillmode": "overlay",
              "size": 10,
              "solidity": 0.2
             }
            },
            "type": "barpolar"
           }
          ],
          "carpet": [
           {
            "aaxis": {
             "endlinecolor": "#2a3f5f",
             "gridcolor": "white",
             "linecolor": "white",
             "minorgridcolor": "white",
             "startlinecolor": "#2a3f5f"
            },
            "baxis": {
             "endlinecolor": "#2a3f5f",
             "gridcolor": "white",
             "linecolor": "white",
             "minorgridcolor": "white",
             "startlinecolor": "#2a3f5f"
            },
            "type": "carpet"
           }
          ],
          "choropleth": [
           {
            "colorbar": {
             "outlinewidth": 0,
             "ticks": ""
            },
            "type": "choropleth"
           }
          ],
          "contour": [
           {
            "colorbar": {
             "outlinewidth": 0,
             "ticks": ""
            },
            "colorscale": [
             [
              0,
              "#0d0887"
             ],
             [
              0.1111111111111111,
              "#46039f"
             ],
             [
              0.2222222222222222,
              "#7201a8"
             ],
             [
              0.3333333333333333,
              "#9c179e"
             ],
             [
              0.4444444444444444,
              "#bd3786"
             ],
             [
              0.5555555555555556,
              "#d8576b"
             ],
             [
              0.6666666666666666,
              "#ed7953"
             ],
             [
              0.7777777777777778,
              "#fb9f3a"
             ],
             [
              0.8888888888888888,
              "#fdca26"
             ],
             [
              1,
              "#f0f921"
             ]
            ],
            "type": "contour"
           }
          ],
          "contourcarpet": [
           {
            "colorbar": {
             "outlinewidth": 0,
             "ticks": ""
            },
            "type": "contourcarpet"
           }
          ],
          "heatmap": [
           {
            "colorbar": {
             "outlinewidth": 0,
             "ticks": ""
            },
            "colorscale": [
             [
              0,
              "#0d0887"
             ],
             [
              0.1111111111111111,
              "#46039f"
             ],
             [
              0.2222222222222222,
              "#7201a8"
             ],
             [
              0.3333333333333333,
              "#9c179e"
             ],
             [
              0.4444444444444444,
              "#bd3786"
             ],
             [
              0.5555555555555556,
              "#d8576b"
             ],
             [
              0.6666666666666666,
              "#ed7953"
             ],
             [
              0.7777777777777778,
              "#fb9f3a"
             ],
             [
              0.8888888888888888,
              "#fdca26"
             ],
             [
              1,
              "#f0f921"
             ]
            ],
            "type": "heatmap"
           }
          ],
          "heatmapgl": [
           {
            "colorbar": {
             "outlinewidth": 0,
             "ticks": ""
            },
            "colorscale": [
             [
              0,
              "#0d0887"
             ],
             [
              0.1111111111111111,
              "#46039f"
             ],
             [
              0.2222222222222222,
              "#7201a8"
             ],
             [
              0.3333333333333333,
              "#9c179e"
             ],
             [
              0.4444444444444444,
              "#bd3786"
             ],
             [
              0.5555555555555556,
              "#d8576b"
             ],
             [
              0.6666666666666666,
              "#ed7953"
             ],
             [
              0.7777777777777778,
              "#fb9f3a"
             ],
             [
              0.8888888888888888,
              "#fdca26"
             ],
             [
              1,
              "#f0f921"
             ]
            ],
            "type": "heatmapgl"
           }
          ],
          "histogram": [
           {
            "marker": {
             "pattern": {
              "fillmode": "overlay",
              "size": 10,
              "solidity": 0.2
             }
            },
            "type": "histogram"
           }
          ],
          "histogram2d": [
           {
            "colorbar": {
             "outlinewidth": 0,
             "ticks": ""
            },
            "colorscale": [
             [
              0,
              "#0d0887"
             ],
             [
              0.1111111111111111,
              "#46039f"
             ],
             [
              0.2222222222222222,
              "#7201a8"
             ],
             [
              0.3333333333333333,
              "#9c179e"
             ],
             [
              0.4444444444444444,
              "#bd3786"
             ],
             [
              0.5555555555555556,
              "#d8576b"
             ],
             [
              0.6666666666666666,
              "#ed7953"
             ],
             [
              0.7777777777777778,
              "#fb9f3a"
             ],
             [
              0.8888888888888888,
              "#fdca26"
             ],
             [
              1,
              "#f0f921"
             ]
            ],
            "type": "histogram2d"
           }
          ],
          "histogram2dcontour": [
           {
            "colorbar": {
             "outlinewidth": 0,
             "ticks": ""
            },
            "colorscale": [
             [
              0,
              "#0d0887"
             ],
             [
              0.1111111111111111,
              "#46039f"
             ],
             [
              0.2222222222222222,
              "#7201a8"
             ],
             [
              0.3333333333333333,
              "#9c179e"
             ],
             [
              0.4444444444444444,
              "#bd3786"
             ],
             [
              0.5555555555555556,
              "#d8576b"
             ],
             [
              0.6666666666666666,
              "#ed7953"
             ],
             [
              0.7777777777777778,
              "#fb9f3a"
             ],
             [
              0.8888888888888888,
              "#fdca26"
             ],
             [
              1,
              "#f0f921"
             ]
            ],
            "type": "histogram2dcontour"
           }
          ],
          "mesh3d": [
           {
            "colorbar": {
             "outlinewidth": 0,
             "ticks": ""
            },
            "type": "mesh3d"
           }
          ],
          "parcoords": [
           {
            "line": {
             "colorbar": {
              "outlinewidth": 0,
              "ticks": ""
             }
            },
            "type": "parcoords"
           }
          ],
          "pie": [
           {
            "automargin": true,
            "type": "pie"
           }
          ],
          "scatter": [
           {
            "marker": {
             "colorbar": {
              "outlinewidth": 0,
              "ticks": ""
             }
            },
            "type": "scatter"
           }
          ],
          "scatter3d": [
           {
            "line": {
             "colorbar": {
              "outlinewidth": 0,
              "ticks": ""
             }
            },
            "marker": {
             "colorbar": {
              "outlinewidth": 0,
              "ticks": ""
             }
            },
            "type": "scatter3d"
           }
          ],
          "scattercarpet": [
           {
            "marker": {
             "colorbar": {
              "outlinewidth": 0,
              "ticks": ""
             }
            },
            "type": "scattercarpet"
           }
          ],
          "scattergeo": [
           {
            "marker": {
             "colorbar": {
              "outlinewidth": 0,
              "ticks": ""
             }
            },
            "type": "scattergeo"
           }
          ],
          "scattergl": [
           {
            "marker": {
             "colorbar": {
              "outlinewidth": 0,
              "ticks": ""
             }
            },
            "type": "scattergl"
           }
          ],
          "scattermapbox": [
           {
            "marker": {
             "colorbar": {
              "outlinewidth": 0,
              "ticks": ""
             }
            },
            "type": "scattermapbox"
           }
          ],
          "scatterpolar": [
           {
            "marker": {
             "colorbar": {
              "outlinewidth": 0,
              "ticks": ""
             }
            },
            "type": "scatterpolar"
           }
          ],
          "scatterpolargl": [
           {
            "marker": {
             "colorbar": {
              "outlinewidth": 0,
              "ticks": ""
             }
            },
            "type": "scatterpolargl"
           }
          ],
          "scatterternary": [
           {
            "marker": {
             "colorbar": {
              "outlinewidth": 0,
              "ticks": ""
             }
            },
            "type": "scatterternary"
           }
          ],
          "surface": [
           {
            "colorbar": {
             "outlinewidth": 0,
             "ticks": ""
            },
            "colorscale": [
             [
              0,
              "#0d0887"
             ],
             [
              0.1111111111111111,
              "#46039f"
             ],
             [
              0.2222222222222222,
              "#7201a8"
             ],
             [
              0.3333333333333333,
              "#9c179e"
             ],
             [
              0.4444444444444444,
              "#bd3786"
             ],
             [
              0.5555555555555556,
              "#d8576b"
             ],
             [
              0.6666666666666666,
              "#ed7953"
             ],
             [
              0.7777777777777778,
              "#fb9f3a"
             ],
             [
              0.8888888888888888,
              "#fdca26"
             ],
             [
              1,
              "#f0f921"
             ]
            ],
            "type": "surface"
           }
          ],
          "table": [
           {
            "cells": {
             "fill": {
              "color": "#EBF0F8"
             },
             "line": {
              "color": "white"
             }
            },
            "header": {
             "fill": {
              "color": "#C8D4E3"
             },
             "line": {
              "color": "white"
             }
            },
            "type": "table"
           }
          ]
         },
         "layout": {
          "annotationdefaults": {
           "arrowcolor": "#2a3f5f",
           "arrowhead": 0,
           "arrowwidth": 1
          },
          "autotypenumbers": "strict",
          "coloraxis": {
           "colorbar": {
            "outlinewidth": 0,
            "ticks": ""
           }
          },
          "colorscale": {
           "diverging": [
            [
             0,
             "#8e0152"
            ],
            [
             0.1,
             "#c51b7d"
            ],
            [
             0.2,
             "#de77ae"
            ],
            [
             0.3,
             "#f1b6da"
            ],
            [
             0.4,
             "#fde0ef"
            ],
            [
             0.5,
             "#f7f7f7"
            ],
            [
             0.6,
             "#e6f5d0"
            ],
            [
             0.7,
             "#b8e186"
            ],
            [
             0.8,
             "#7fbc41"
            ],
            [
             0.9,
             "#4d9221"
            ],
            [
             1,
             "#276419"
            ]
           ],
           "sequential": [
            [
             0,
             "#0d0887"
            ],
            [
             0.1111111111111111,
             "#46039f"
            ],
            [
             0.2222222222222222,
             "#7201a8"
            ],
            [
             0.3333333333333333,
             "#9c179e"
            ],
            [
             0.4444444444444444,
             "#bd3786"
            ],
            [
             0.5555555555555556,
             "#d8576b"
            ],
            [
             0.6666666666666666,
             "#ed7953"
            ],
            [
             0.7777777777777778,
             "#fb9f3a"
            ],
            [
             0.8888888888888888,
             "#fdca26"
            ],
            [
             1,
             "#f0f921"
            ]
           ],
           "sequentialminus": [
            [
             0,
             "#0d0887"
            ],
            [
             0.1111111111111111,
             "#46039f"
            ],
            [
             0.2222222222222222,
             "#7201a8"
            ],
            [
             0.3333333333333333,
             "#9c179e"
            ],
            [
             0.4444444444444444,
             "#bd3786"
            ],
            [
             0.5555555555555556,
             "#d8576b"
            ],
            [
             0.6666666666666666,
             "#ed7953"
            ],
            [
             0.7777777777777778,
             "#fb9f3a"
            ],
            [
             0.8888888888888888,
             "#fdca26"
            ],
            [
             1,
             "#f0f921"
            ]
           ]
          },
          "colorway": [
           "#636efa",
           "#EF553B",
           "#00cc96",
           "#ab63fa",
           "#FFA15A",
           "#19d3f3",
           "#FF6692",
           "#B6E880",
           "#FF97FF",
           "#FECB52"
          ],
          "font": {
           "color": "#2a3f5f"
          },
          "geo": {
           "bgcolor": "white",
           "lakecolor": "white",
           "landcolor": "#E5ECF6",
           "showlakes": true,
           "showland": true,
           "subunitcolor": "white"
          },
          "hoverlabel": {
           "align": "left"
          },
          "hovermode": "closest",
          "mapbox": {
           "style": "light"
          },
          "paper_bgcolor": "white",
          "plot_bgcolor": "#E5ECF6",
          "polar": {
           "angularaxis": {
            "gridcolor": "white",
            "linecolor": "white",
            "ticks": ""
           },
           "bgcolor": "#E5ECF6",
           "radialaxis": {
            "gridcolor": "white",
            "linecolor": "white",
            "ticks": ""
           }
          },
          "scene": {
           "xaxis": {
            "backgroundcolor": "#E5ECF6",
            "gridcolor": "white",
            "gridwidth": 2,
            "linecolor": "white",
            "showbackground": true,
            "ticks": "",
            "zerolinecolor": "white"
           },
           "yaxis": {
            "backgroundcolor": "#E5ECF6",
            "gridcolor": "white",
            "gridwidth": 2,
            "linecolor": "white",
            "showbackground": true,
            "ticks": "",
            "zerolinecolor": "white"
           },
           "zaxis": {
            "backgroundcolor": "#E5ECF6",
            "gridcolor": "white",
            "gridwidth": 2,
            "linecolor": "white",
            "showbackground": true,
            "ticks": "",
            "zerolinecolor": "white"
           }
          },
          "shapedefaults": {
           "line": {
            "color": "#2a3f5f"
           }
          },
          "ternary": {
           "aaxis": {
            "gridcolor": "white",
            "linecolor": "white",
            "ticks": ""
           },
           "baxis": {
            "gridcolor": "white",
            "linecolor": "white",
            "ticks": ""
           },
           "bgcolor": "#E5ECF6",
           "caxis": {
            "gridcolor": "white",
            "linecolor": "white",
            "ticks": ""
           }
          },
          "title": {
           "x": 0.05
          },
          "xaxis": {
           "automargin": true,
           "gridcolor": "white",
           "linecolor": "white",
           "ticks": "",
           "title": {
            "standoff": 15
           },
           "zerolinecolor": "white",
           "zerolinewidth": 2
          },
          "yaxis": {
           "automargin": true,
           "gridcolor": "white",
           "linecolor": "white",
           "ticks": "",
           "title": {
            "standoff": 15
           },
           "zerolinecolor": "white",
           "zerolinewidth": 2
          }
         }
        },
        "title": {
         "text": " "
        },
        "xaxis": {
         "title": {
          "text": " "
         }
        },
        "yaxis": {
         "title": {
          "text": " "
         }
        }
       }
      },
      "text/html": [
       "<div>                            <div id=\"37b0daec-1fa4-48ad-a8d3-7d751f0a2cd7\" class=\"plotly-graph-div\" style=\"height:525px; width:100%;\"></div>            <script type=\"text/javascript\">                require([\"plotly\"], function(Plotly) {                    window.PLOTLYENV=window.PLOTLYENV || {};                                    if (document.getElementById(\"37b0daec-1fa4-48ad-a8d3-7d751f0a2cd7\")) {                    Plotly.newPlot(                        \"37b0daec-1fa4-48ad-a8d3-7d751f0a2cd7\",                        [{\"marker\":{\"color\":\"blue\",\"size\":14},\"mode\":\"markers\",\"x\":[-2.330078922787911,-2.0578559805954546,-1.8851770324320443,-1.75530050130824,-1.649672679353478,-1.5597799921032536,-1.480972651368176,-1.4104195313382353,-1.3462626652319192,-1.2872137328173294,-1.2323408611117501,-1.1809470407966427,-1.132496529618965,-1.086568114986069,-1.0428242390384295,-1.0009899168818812,-0.9608379310031608,-0.9221781782775869,-0.8848498412982431,-0.8487155274221447,-0.8136568081151939,-0.7795707737384843,-0.746367337187046,-0.713967098197978,-0.6822996332113872,-0.6513021122615636,-0.6209181700422963,-0.5910969765728049,-0.5617924660992517,-0.5329626925342973,-0.5045692868981857,-0.4765769975882356,-0.44895329836199876,-0.4216680520195305,-0.3946932201593915,-0.3680026112393317,-0.341571660625871,-0.3153772374626603,-0.28939747409646166,-0.2636116145249011,-0.23799987891187127,-0.212543341685061,-0.18722382110885646,-0.162023778532748,-0.13692622576424984,-0.11191463921698815,-0.08697287964740107,-0.06208511642395301,-0.03723575537593384,-0.012409369348679852,0.012409369348679852,0.03723575537593384,0.06208511642395301,0.0869728796474012,0.11191463921698828,0.13692622576424998,0.16202377853274785,0.1872238211088563,0.21254334168506087,0.23799987891187127,0.2636116145249011,0.28939747409646166,0.3153772374626603,0.341571660625871,0.3680026112393317,0.3946932201593915,0.4216680520195306,0.448953298361999,0.4765769975882358,0.5045692868981856,0.5329626925342971,0.5617924660992515,0.5910969765728049,0.6209181700422963,0.6513021122615636,0.6822996332113872,0.713967098197978,0.746367337187046,0.7795707737384843,0.8136568081151939,0.848715527422145,0.8848498412982432,0.9221781782775866,0.9608379310031608,1.0009899168818812,1.0428242390384295,1.086568114986069,1.132496529618965,1.1809470407966427,1.2323408611117501,1.2872137328173294,1.3462626652319198,1.4104195313382353,1.480972651368176,1.5597799921032531,1.6496726793534775,1.75530050130824,1.8851770324320436,2.0578559805954537,2.3300789227879104],\"y\":[1522.783568263009,1576.839026788447,1588.459336373372,1602.728182417653,1610.7326224194185,1631.9866620696441,1632.109951589697,1638.9897406625735,1647.8128480473335,1649.1238858373083,1649.1905705893166,1649.4836061085257,1653.6537855193712,1657.642050652416,1658.6191382018178,1659.1635325284747,1660.4869827377102,1661.63261599741,1669.9711082906113,1672.8343246878271,1676.0852654823484,1676.274151491793,1678.7998291189429,1679.0770048149664,1684.1700061838067,1685.8343187292296,1696.6247836384177,1700.9592361337602,1703.176169204732,1704.6424970358612,1705.4535841279946,1705.6489901074729,1708.6418044779198,1709.5582990836924,1710.1721869589041,1711.9959787311452,1717.816123108397,1718.295971979224,1718.9261021522184,1721.0055383119238,1721.1697004575158,1722.033765816078,1723.6193631714941,1726.9986745233616,1727.352085051088,1727.7078693662363,1727.7311857513669,1727.8461677675716,1729.88913070221,1731.2295594221114,1732.5384597196835,1735.7052321631377,1735.7410603624762,1738.6354860793601,1739.46093132653,1740.6276516131145,1742.70643222932,1743.1135489131668,1743.2337417032224,1743.3104228568643,1748.842147559738,1751.3815109886218,1756.253366861681,1758.1872474104914,1761.0446392006356,1761.3470279387464,1761.5070273569866,1765.2660220092625,1766.1632987199,1767.1406948871356,1771.5213131888363,1772.6668979428268,1774.4785959928427,1774.9874920456348,1776.5392061204755,1784.6278636698416,1791.2454303111624,1792.4344768580459,1792.915315582561,1793.7101015377864,1795.0112511019422,1802.2399896945712,1811.7037529943264,1819.8239827995721,1822.9627788930393,1824.3164652328003,1829.4942773575658,1833.3588750544964,1839.069667550595,1840.9372728233634,1843.1150186179145,1843.1502029923258,1844.2944485669464,1849.8774393344413,1862.1627105416223,1869.1050162449842,1871.4680563406944,1871.6373021910945,1901.7431242556193,1913.9274813654033],\"type\":\"scatter\"},{\"marker\":{\"color\":\"red\"},\"mode\":\"lines\",\"x\":[-2.330078922787911,-2.0578559805954546,-1.8851770324320443,-1.75530050130824,-1.649672679353478,-1.5597799921032536,-1.480972651368176,-1.4104195313382353,-1.3462626652319192,-1.2872137328173294,-1.2323408611117501,-1.1809470407966427,-1.132496529618965,-1.086568114986069,-1.0428242390384295,-1.0009899168818812,-0.9608379310031608,-0.9221781782775869,-0.8848498412982431,-0.8487155274221447,-0.8136568081151939,-0.7795707737384843,-0.746367337187046,-0.713967098197978,-0.6822996332113872,-0.6513021122615636,-0.6209181700422963,-0.5910969765728049,-0.5617924660992517,-0.5329626925342973,-0.5045692868981857,-0.4765769975882356,-0.44895329836199876,-0.4216680520195305,-0.3946932201593915,-0.3680026112393317,-0.341571660625871,-0.3153772374626603,-0.28939747409646166,-0.2636116145249011,-0.23799987891187127,-0.212543341685061,-0.18722382110885646,-0.162023778532748,-0.13692622576424984,-0.11191463921698815,-0.08697287964740107,-0.06208511642395301,-0.03723575537593384,-0.012409369348679852,0.012409369348679852,0.03723575537593384,0.06208511642395301,0.0869728796474012,0.11191463921698828,0.13692622576424998,0.16202377853274785,0.1872238211088563,0.21254334168506087,0.23799987891187127,0.2636116145249011,0.28939747409646166,0.3153772374626603,0.341571660625871,0.3680026112393317,0.3946932201593915,0.4216680520195306,0.448953298361999,0.4765769975882358,0.5045692868981856,0.5329626925342971,0.5617924660992515,0.5910969765728049,0.6209181700422963,0.6513021122615636,0.6822996332113872,0.713967098197978,0.746367337187046,0.7795707737384843,0.8136568081151939,0.848715527422145,0.8848498412982432,0.9221781782775866,0.9608379310031608,1.0009899168818812,1.0428242390384295,1.086568114986069,1.132496529618965,1.1809470407966427,1.2323408611117501,1.2872137328173294,1.3462626652319198,1.4104195313382353,1.480972651368176,1.5597799921032531,1.6496726793534775,1.75530050130824,1.8851770324320436,2.0578559805954537,2.3300789227879104],\"y\":[1564.9764928458417,1585.0502819750452,1597.7836716172537,1607.3608001194082,1615.1498226280178,1621.7785322936518,1627.5898056823246,1632.7924107327365,1637.5233543888307,1641.877637712817,1645.9239772559145,1649.7137706628944,1653.2865237040219,1656.673296703219,1659.8989812630684,1662.9838548397415,1665.9446725105695,1668.795452528411,1671.5480536098344,1674.2126071233456,1676.7978460192287,1679.3113588804817,1681.7597887531822,1684.148990632951,1686.4841575710402,1688.7699226651334,1691.010442307274,1693.2094647131978,1695.3703867833324,1697.4963016328475,1699.5900386000876,1701.6541971472182,1703.6911757676462,1705.7031967861753,1707.6923277616731,1709.6605000651396,1711.6095250989072,1713.5411085382182,1715.4568629093944,1717.3583187653408,1719.246934676212,1721.1241062185336,1722.9911741181227,1724.8494316795377,1726.7001316164215,1728.544492382244,1730.3837040889384,1732.2189340913085,1734.0513323074763,1735.8820363397579,1737.7121764559845,1739.542880488266,1741.3752787044339,1743.210508706804,1745.0497204134983,1746.894081179321,1748.7447811162046,1750.6030386776197,1752.4701065772088,1754.3472781195303,1756.2358940304016,1758.137349886348,1760.0531042575242,1761.9846876968352,1763.9337127306028,1765.9018850340692,1767.891016009567,1769.9030370280962,1771.9400156485242,1774.0041741956547,1776.097911162895,1778.22382601241,1780.3847480825445,1782.5837704884684,1784.824290130609,1787.1100552247021,1789.4452221627914,1791.8344240425602,1794.2828539152606,1796.7963667765137,1799.3816056723967,1802.046159185908,1804.7987602673313,1807.6495402851729,1810.6103579560008,1813.695231532674,1816.9209160925234,1820.3076890917205,1823.880442132848,1827.670235539828,1831.7165750829254,1836.0708584069116,1840.8018020630059,1846.0044071134178,1851.8156805020906,1858.4443901677246,1866.2334126763342,1875.8105411784884,1888.5439308206971,1908.6177199499007],\"type\":\"scatter\"}],                        {\"template\":{\"data\":{\"bar\":[{\"error_x\":{\"color\":\"#2a3f5f\"},\"error_y\":{\"color\":\"#2a3f5f\"},\"marker\":{\"line\":{\"color\":\"#E5ECF6\",\"width\":0.5},\"pattern\":{\"fillmode\":\"overlay\",\"size\":10,\"solidity\":0.2}},\"type\":\"bar\"}],\"barpolar\":[{\"marker\":{\"line\":{\"color\":\"#E5ECF6\",\"width\":0.5},\"pattern\":{\"fillmode\":\"overlay\",\"size\":10,\"solidity\":0.2}},\"type\":\"barpolar\"}],\"carpet\":[{\"aaxis\":{\"endlinecolor\":\"#2a3f5f\",\"gridcolor\":\"white\",\"linecolor\":\"white\",\"minorgridcolor\":\"white\",\"startlinecolor\":\"#2a3f5f\"},\"baxis\":{\"endlinecolor\":\"#2a3f5f\",\"gridcolor\":\"white\",\"linecolor\":\"white\",\"minorgridcolor\":\"white\",\"startlinecolor\":\"#2a3f5f\"},\"type\":\"carpet\"}],\"choropleth\":[{\"colorbar\":{\"outlinewidth\":0,\"ticks\":\"\"},\"type\":\"choropleth\"}],\"contour\":[{\"colorbar\":{\"outlinewidth\":0,\"ticks\":\"\"},\"colorscale\":[[0.0,\"#0d0887\"],[0.1111111111111111,\"#46039f\"],[0.2222222222222222,\"#7201a8\"],[0.3333333333333333,\"#9c179e\"],[0.4444444444444444,\"#bd3786\"],[0.5555555555555556,\"#d8576b\"],[0.6666666666666666,\"#ed7953\"],[0.7777777777777778,\"#fb9f3a\"],[0.8888888888888888,\"#fdca26\"],[1.0,\"#f0f921\"]],\"type\":\"contour\"}],\"contourcarpet\":[{\"colorbar\":{\"outlinewidth\":0,\"ticks\":\"\"},\"type\":\"contourcarpet\"}],\"heatmap\":[{\"colorbar\":{\"outlinewidth\":0,\"ticks\":\"\"},\"colorscale\":[[0.0,\"#0d0887\"],[0.1111111111111111,\"#46039f\"],[0.2222222222222222,\"#7201a8\"],[0.3333333333333333,\"#9c179e\"],[0.4444444444444444,\"#bd3786\"],[0.5555555555555556,\"#d8576b\"],[0.6666666666666666,\"#ed7953\"],[0.7777777777777778,\"#fb9f3a\"],[0.8888888888888888,\"#fdca26\"],[1.0,\"#f0f921\"]],\"type\":\"heatmap\"}],\"heatmapgl\":[{\"colorbar\":{\"outlinewidth\":0,\"ticks\":\"\"},\"colorscale\":[[0.0,\"#0d0887\"],[0.1111111111111111,\"#46039f\"],[0.2222222222222222,\"#7201a8\"],[0.3333333333333333,\"#9c179e\"],[0.4444444444444444,\"#bd3786\"],[0.5555555555555556,\"#d8576b\"],[0.6666666666666666,\"#ed7953\"],[0.7777777777777778,\"#fb9f3a\"],[0.8888888888888888,\"#fdca26\"],[1.0,\"#f0f921\"]],\"type\":\"heatmapgl\"}],\"histogram\":[{\"marker\":{\"pattern\":{\"fillmode\":\"overlay\",\"size\":10,\"solidity\":0.2}},\"type\":\"histogram\"}],\"histogram2d\":[{\"colorbar\":{\"outlinewidth\":0,\"ticks\":\"\"},\"colorscale\":[[0.0,\"#0d0887\"],[0.1111111111111111,\"#46039f\"],[0.2222222222222222,\"#7201a8\"],[0.3333333333333333,\"#9c179e\"],[0.4444444444444444,\"#bd3786\"],[0.5555555555555556,\"#d8576b\"],[0.6666666666666666,\"#ed7953\"],[0.7777777777777778,\"#fb9f3a\"],[0.8888888888888888,\"#fdca26\"],[1.0,\"#f0f921\"]],\"type\":\"histogram2d\"}],\"histogram2dcontour\":[{\"colorbar\":{\"outlinewidth\":0,\"ticks\":\"\"},\"colorscale\":[[0.0,\"#0d0887\"],[0.1111111111111111,\"#46039f\"],[0.2222222222222222,\"#7201a8\"],[0.3333333333333333,\"#9c179e\"],[0.4444444444444444,\"#bd3786\"],[0.5555555555555556,\"#d8576b\"],[0.6666666666666666,\"#ed7953\"],[0.7777777777777778,\"#fb9f3a\"],[0.8888888888888888,\"#fdca26\"],[1.0,\"#f0f921\"]],\"type\":\"histogram2dcontour\"}],\"mesh3d\":[{\"colorbar\":{\"outlinewidth\":0,\"ticks\":\"\"},\"type\":\"mesh3d\"}],\"parcoords\":[{\"line\":{\"colorbar\":{\"outlinewidth\":0,\"ticks\":\"\"}},\"type\":\"parcoords\"}],\"pie\":[{\"automargin\":true,\"type\":\"pie\"}],\"scatter\":[{\"marker\":{\"colorbar\":{\"outlinewidth\":0,\"ticks\":\"\"}},\"type\":\"scatter\"}],\"scatter3d\":[{\"line\":{\"colorbar\":{\"outlinewidth\":0,\"ticks\":\"\"}},\"marker\":{\"colorbar\":{\"outlinewidth\":0,\"ticks\":\"\"}},\"type\":\"scatter3d\"}],\"scattercarpet\":[{\"marker\":{\"colorbar\":{\"outlinewidth\":0,\"ticks\":\"\"}},\"type\":\"scattercarpet\"}],\"scattergeo\":[{\"marker\":{\"colorbar\":{\"outlinewidth\":0,\"ticks\":\"\"}},\"type\":\"scattergeo\"}],\"scattergl\":[{\"marker\":{\"colorbar\":{\"outlinewidth\":0,\"ticks\":\"\"}},\"type\":\"scattergl\"}],\"scattermapbox\":[{\"marker\":{\"colorbar\":{\"outlinewidth\":0,\"ticks\":\"\"}},\"type\":\"scattermapbox\"}],\"scatterpolar\":[{\"marker\":{\"colorbar\":{\"outlinewidth\":0,\"ticks\":\"\"}},\"type\":\"scatterpolar\"}],\"scatterpolargl\":[{\"marker\":{\"colorbar\":{\"outlinewidth\":0,\"ticks\":\"\"}},\"type\":\"scatterpolargl\"}],\"scatterternary\":[{\"marker\":{\"colorbar\":{\"outlinewidth\":0,\"ticks\":\"\"}},\"type\":\"scatterternary\"}],\"surface\":[{\"colorbar\":{\"outlinewidth\":0,\"ticks\":\"\"},\"colorscale\":[[0.0,\"#0d0887\"],[0.1111111111111111,\"#46039f\"],[0.2222222222222222,\"#7201a8\"],[0.3333333333333333,\"#9c179e\"],[0.4444444444444444,\"#bd3786\"],[0.5555555555555556,\"#d8576b\"],[0.6666666666666666,\"#ed7953\"],[0.7777777777777778,\"#fb9f3a\"],[0.8888888888888888,\"#fdca26\"],[1.0,\"#f0f921\"]],\"type\":\"surface\"}],\"table\":[{\"cells\":{\"fill\":{\"color\":\"#EBF0F8\"},\"line\":{\"color\":\"white\"}},\"header\":{\"fill\":{\"color\":\"#C8D4E3\"},\"line\":{\"color\":\"white\"}},\"type\":\"table\"}]},\"layout\":{\"annotationdefaults\":{\"arrowcolor\":\"#2a3f5f\",\"arrowhead\":0,\"arrowwidth\":1},\"autotypenumbers\":\"strict\",\"coloraxis\":{\"colorbar\":{\"outlinewidth\":0,\"ticks\":\"\"}},\"colorscale\":{\"diverging\":[[0,\"#8e0152\"],[0.1,\"#c51b7d\"],[0.2,\"#de77ae\"],[0.3,\"#f1b6da\"],[0.4,\"#fde0ef\"],[0.5,\"#f7f7f7\"],[0.6,\"#e6f5d0\"],[0.7,\"#b8e186\"],[0.8,\"#7fbc41\"],[0.9,\"#4d9221\"],[1,\"#276419\"]],\"sequential\":[[0.0,\"#0d0887\"],[0.1111111111111111,\"#46039f\"],[0.2222222222222222,\"#7201a8\"],[0.3333333333333333,\"#9c179e\"],[0.4444444444444444,\"#bd3786\"],[0.5555555555555556,\"#d8576b\"],[0.6666666666666666,\"#ed7953\"],[0.7777777777777778,\"#fb9f3a\"],[0.8888888888888888,\"#fdca26\"],[1.0,\"#f0f921\"]],\"sequentialminus\":[[0.0,\"#0d0887\"],[0.1111111111111111,\"#46039f\"],[0.2222222222222222,\"#7201a8\"],[0.3333333333333333,\"#9c179e\"],[0.4444444444444444,\"#bd3786\"],[0.5555555555555556,\"#d8576b\"],[0.6666666666666666,\"#ed7953\"],[0.7777777777777778,\"#fb9f3a\"],[0.8888888888888888,\"#fdca26\"],[1.0,\"#f0f921\"]]},\"colorway\":[\"#636efa\",\"#EF553B\",\"#00cc96\",\"#ab63fa\",\"#FFA15A\",\"#19d3f3\",\"#FF6692\",\"#B6E880\",\"#FF97FF\",\"#FECB52\"],\"font\":{\"color\":\"#2a3f5f\"},\"geo\":{\"bgcolor\":\"white\",\"lakecolor\":\"white\",\"landcolor\":\"#E5ECF6\",\"showlakes\":true,\"showland\":true,\"subunitcolor\":\"white\"},\"hoverlabel\":{\"align\":\"left\"},\"hovermode\":\"closest\",\"mapbox\":{\"style\":\"light\"},\"paper_bgcolor\":\"white\",\"plot_bgcolor\":\"#E5ECF6\",\"polar\":{\"angularaxis\":{\"gridcolor\":\"white\",\"linecolor\":\"white\",\"ticks\":\"\"},\"bgcolor\":\"#E5ECF6\",\"radialaxis\":{\"gridcolor\":\"white\",\"linecolor\":\"white\",\"ticks\":\"\"}},\"scene\":{\"xaxis\":{\"backgroundcolor\":\"#E5ECF6\",\"gridcolor\":\"white\",\"gridwidth\":2,\"linecolor\":\"white\",\"showbackground\":true,\"ticks\":\"\",\"zerolinecolor\":\"white\"},\"yaxis\":{\"backgroundcolor\":\"#E5ECF6\",\"gridcolor\":\"white\",\"gridwidth\":2,\"linecolor\":\"white\",\"showbackground\":true,\"ticks\":\"\",\"zerolinecolor\":\"white\"},\"zaxis\":{\"backgroundcolor\":\"#E5ECF6\",\"gridcolor\":\"white\",\"gridwidth\":2,\"linecolor\":\"white\",\"showbackground\":true,\"ticks\":\"\",\"zerolinecolor\":\"white\"}},\"shapedefaults\":{\"line\":{\"color\":\"#2a3f5f\"}},\"ternary\":{\"aaxis\":{\"gridcolor\":\"white\",\"linecolor\":\"white\",\"ticks\":\"\"},\"baxis\":{\"gridcolor\":\"white\",\"linecolor\":\"white\",\"ticks\":\"\"},\"bgcolor\":\"#E5ECF6\",\"caxis\":{\"gridcolor\":\"white\",\"linecolor\":\"white\",\"ticks\":\"\"}},\"title\":{\"x\":0.05},\"xaxis\":{\"automargin\":true,\"gridcolor\":\"white\",\"linecolor\":\"white\",\"ticks\":\"\",\"title\":{\"standoff\":15},\"zerolinecolor\":\"white\",\"zerolinewidth\":2},\"yaxis\":{\"automargin\":true,\"gridcolor\":\"white\",\"linecolor\":\"white\",\"ticks\":\"\",\"title\":{\"standoff\":15},\"zerolinecolor\":\"white\",\"zerolinewidth\":2}}},\"title\":{\"text\":\" \"},\"xaxis\":{\"title\":{\"text\":\" \"}},\"yaxis\":{\"title\":{\"text\":\" \"}},\"showlegend\":false,\"plot_bgcolor\":\"#EEEEEE\"},                        {\"responsive\": true}                    ).then(function(){\n",
       "                            \n",
       "var gd = document.getElementById('37b0daec-1fa4-48ad-a8d3-7d751f0a2cd7');\n",
       "var x = new MutationObserver(function (mutations, observer) {{\n",
       "        var display = window.getComputedStyle(gd).display;\n",
       "        if (!display || display === 'none') {{\n",
       "            console.log([gd, 'removed!']);\n",
       "            Plotly.purge(gd);\n",
       "            observer.disconnect();\n",
       "        }}\n",
       "}});\n",
       "\n",
       "// Listen for the removal of the full notebook cells\n",
       "var notebookContainer = gd.closest('#notebook-container');\n",
       "if (notebookContainer) {{\n",
       "    x.observe(notebookContainer, {childList: true});\n",
       "}}\n",
       "\n",
       "// Listen for the clearing of the current output cell\n",
       "var outputEl = gd.closest('.output');\n",
       "if (outputEl) {{\n",
       "    x.observe(outputEl, {childList: true});\n",
       "}}\n",
       "\n",
       "                        })                };                });            </script>        </div>"
      ]
     },
     "metadata": {},
     "output_type": "display_data"
    }
   ],
   "source": [
    "# No plotly...\n",
    "fig = go.Figure()\n",
    "\n",
    "# Add dados\n",
    "fig.add_trace(go.Scatter(x = qqplot_data[0].get_xdata(),\n",
    "                        y = qqplot_data[0].get_ydata(),\n",
    "                        mode = \"markers\",\n",
    "                        marker = dict(color = \"blue\",\n",
    "                                     size = 14)))\n",
    "\n",
    "#CB1EEE\n",
    "\n",
    "# Add linha normal\n",
    "fig.add_trace(go.Scatter(x = qqplot_data[1].get_xdata(),\n",
    "                        y = qqplot_data[1].get_ydata(),\n",
    "                        mode = \"lines\",\n",
    "                        marker = dict(color = \"red\")))\n",
    "\n",
    "# Atualizando títulos\n",
    "# fig.update_layout(title = \"Gráfico Quantil-Quantil\",\n",
    "#                  xaxis = dict(title = \"Quantis teóricos da distribuição normal padrão\"),\n",
    "#                  yaxis = dict(title = \"Quantis observados da amostra\"),\n",
    "#                  showlegend = False,\n",
    "#                  plot_bgcolor='#EEEEEE')\n",
    "\n",
    "\n",
    "fig.update_layout(title = \" \",\n",
    "                 xaxis = dict(title = \" \"),\n",
    "                 yaxis = dict(title = \" \"),\n",
    "                 showlegend = False,\n",
    "                 plot_bgcolor='#EEEEEE')\n",
    "\n",
    "fig.show()"
   ]
  },
  {
   "cell_type": "code",
   "execution_count": null,
   "id": "2f5785b3",
   "metadata": {},
   "outputs": [],
   "source": []
  }
 ],
 "metadata": {
  "kernelspec": {
   "display_name": "Python 3 (ipykernel)",
   "language": "python",
   "name": "python3"
  },
  "language_info": {
   "codemirror_mode": {
    "name": "ipython",
    "version": 3
   },
   "file_extension": ".py",
   "mimetype": "text/x-python",
   "name": "python",
   "nbconvert_exporter": "python",
   "pygments_lexer": "ipython3",
   "version": "3.9.7"
  }
 },
 "nbformat": 4,
 "nbformat_minor": 5
}
